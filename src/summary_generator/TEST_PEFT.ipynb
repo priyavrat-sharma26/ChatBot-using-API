{
 "cells": [
  {
   "cell_type": "code",
   "execution_count": null,
   "metadata": {},
   "outputs": [],
   "source": [
    "from summary_generator_model import DialogueSummarizer\n"
   ]
  },
  {
   "cell_type": "code",
   "execution_count": null,
   "metadata": {},
   "outputs": [],
   "source": [
    "# Create peft dialogueSummarizer object\n",
    "summarizer = DialogueSummarizer(\"../../resources/summary/FINE_TUNNED_MODEL_WITH_PEFT\")"
   ]
  },
  {
   "cell_type": "code",
   "execution_count": 3,
   "metadata": {},
   "outputs": [],
   "source": [
    "# Define your test dialogue (agent and user conversation about an order)\n",
    "test_dialogue = [\n",
    "    \"Agent: Hi there! How can I help you today?\",\n",
    "    \"User: Hello, I placed an order yesterday for a new phone case. Can you give me an update on the delivery?\",\n",
    "    \"Agent: Sure, let me check. Your order (ID: 12345) is currently being processed and is expected to be shipped within 2 business days.\",\n",
    "    \"User: Great, thanks for letting me know! Do you have a tracking number for the shipment yet?\",\n",
    "    \"Agent: Unfortunately, a tracking number won't be available until your order is shipped. You'll receive an email notification with the tracking information once it's on its way.\"\n",
    "]"
   ]
  },
  {
   "cell_type": "code",
   "execution_count": 4,
   "metadata": {},
   "outputs": [
    {
     "name": "stdout",
     "output_type": "stream",
     "text": [
      "Generated Summary: User placed an order for a new phone case yesterday. It's expected to be shipped within 2 business days.\n"
     ]
    }
   ],
   "source": [
    " # Generate summary for test dialogues\n",
    "generated_summary = summarizer.generate_summary(test_dialogue)\n",
    "\n",
    "    # Print generated summary\n",
    "print(\"Generated Summary:\", generated_summary)"
   ]
  }
 ],
 "metadata": {
  "kernelspec": {
   "display_name": "Python 3",
   "language": "python",
   "name": "python3"
  },
  "language_info": {
   "codemirror_mode": {
    "name": "ipython",
    "version": 3
   },
   "file_extension": ".py",
   "mimetype": "text/x-python",
   "name": "python",
   "nbconvert_exporter": "python",
   "pygments_lexer": "ipython3",
   "version": "3.12.1"
  }
 },
 "nbformat": 4,
 "nbformat_minor": 2
}
