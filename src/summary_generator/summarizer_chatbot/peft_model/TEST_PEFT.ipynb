{
 "cells": [
  {
   "cell_type": "code",
   "execution_count": 1,
   "metadata": {},
   "outputs": [
    {
     "name": "stderr",
     "output_type": "stream",
     "text": [
      "c:\\Users\\saket.singh1\\AppData\\Local\\Programs\\Python\\Python312\\Lib\\site-packages\\tqdm\\auto.py:21: TqdmWarning: IProgress not found. Please update jupyter and ipywidgets. See https://ipywidgets.readthedocs.io/en/stable/user_install.html\n",
      "  from .autonotebook import tqdm as notebook_tqdm\n"
     ]
    }
   ],
   "source": [
    "from PEFT_MODEL_SUMMARIZER_CLASS import DialogueSummarizer\n"
   ]
  },
  {
   "cell_type": "code",
   "execution_count": 2,
   "metadata": {},
   "outputs": [],
   "source": [
    "# Create T5DialogueSummarizer object\n",
    "summarizer = DialogueSummarizer(\"C:/Users/saket.singh1/Downloads/FINE_TUNNED_MODEL_WITH_PEFT\")"
   ]
  },
  {
   "cell_type": "code",
   "execution_count": 3,
   "metadata": {},
   "outputs": [],
   "source": [
    "# Define your test dialogue (agent and user conversation about an order)\n",
    "test_dialogue = [\n",
    "    \"Agent: Hi there! How can I help you today?\",\n",
    "    \"User: Hello, I placed an order yesterday for a new phone case. Can you give me an update on the delivery?\",\n",
    "    \"Agent: Sure, let me check. Your order (ID: 12345) is currently being processed and is expected to be shipped within 2 business days.\",\n",
    "    \"User: Great, thanks for letting me know! Do you have a tracking number for the shipment yet?\",\n",
    "    \"Agent: Unfortunately, a tracking number won't be available until your order is shipped. You'll receive an email notification with the tracking information once it's on its way.\"\n",
    "]"
   ]
  },
  {
   "cell_type": "code",
   "execution_count": 4,
   "metadata": {},
   "outputs": [
    {
     "name": "stdout",
     "output_type": "stream",
     "text": [
      "Generated Summary: User: Thanks for letting me know.\n"
     ]
    }
   ],
   "source": [
    " # Generate summary for test dialogues\n",
    "generated_summary = summarizer.generate_summary(test_dialogue)\n",
    "\n",
    "    # Print generated summary\n",
    "print(\"Generated Summary:\", generated_summary)"
   ]
  }
 ],
 "metadata": {
  "kernelspec": {
   "display_name": "Python 3",
   "language": "python",
   "name": "python3"
  },
  "language_info": {
   "codemirror_mode": {
    "name": "ipython",
    "version": 3
   },
   "file_extension": ".py",
   "mimetype": "text/x-python",
   "name": "python",
   "nbconvert_exporter": "python",
   "pygments_lexer": "ipython3",
   "version": "3.12.1"
  }
 },
 "nbformat": 4,
 "nbformat_minor": 2
}
